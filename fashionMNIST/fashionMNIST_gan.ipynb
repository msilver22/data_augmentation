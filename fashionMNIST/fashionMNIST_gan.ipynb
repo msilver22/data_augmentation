{
  "nbformat": 4,
  "nbformat_minor": 0,
  "metadata": {
    "colab": {
      "provenance": [],
      "gpuType": "T4",
      "authorship_tag": "ABX9TyOTR2l7x+uNG+b3pzCbnBs0",
      "include_colab_link": true
    },
    "kernelspec": {
      "name": "python3",
      "display_name": "Python 3"
    },
    "language_info": {
      "name": "python"
    },
    "accelerator": "GPU",
    "widgets": {
      "application/vnd.jupyter.widget-state+json": {
        "c85380a24b1a43ae92c737a83066f0fa": {
          "model_module": "@jupyter-widgets/controls",
          "model_name": "HBoxModel",
          "model_module_version": "1.5.0",
          "state": {
            "_dom_classes": [],
            "_model_module": "@jupyter-widgets/controls",
            "_model_module_version": "1.5.0",
            "_model_name": "HBoxModel",
            "_view_count": null,
            "_view_module": "@jupyter-widgets/controls",
            "_view_module_version": "1.5.0",
            "_view_name": "HBoxView",
            "box_style": "",
            "children": [
              "IPY_MODEL_96a1e2e0582446d7b952584c0be65d51",
              "IPY_MODEL_1edc87de49b14e59b0317d7ffbcbf720",
              "IPY_MODEL_fd9ec142a08947a8af956104d81054c2"
            ],
            "layout": "IPY_MODEL_8934ed09adba40ddb507cc0084d1388f"
          }
        },
        "96a1e2e0582446d7b952584c0be65d51": {
          "model_module": "@jupyter-widgets/controls",
          "model_name": "HTMLModel",
          "model_module_version": "1.5.0",
          "state": {
            "_dom_classes": [],
            "_model_module": "@jupyter-widgets/controls",
            "_model_module_version": "1.5.0",
            "_model_name": "HTMLModel",
            "_view_count": null,
            "_view_module": "@jupyter-widgets/controls",
            "_view_module_version": "1.5.0",
            "_view_name": "HTMLView",
            "description": "",
            "description_tooltip": null,
            "layout": "IPY_MODEL_f3457814ac664d7cb820f854fbbc7134",
            "placeholder": "​",
            "style": "IPY_MODEL_d6630508efdd4acb832d25019e6e1915",
            "value": "Epoch 99: 100%"
          }
        },
        "1edc87de49b14e59b0317d7ffbcbf720": {
          "model_module": "@jupyter-widgets/controls",
          "model_name": "FloatProgressModel",
          "model_module_version": "1.5.0",
          "state": {
            "_dom_classes": [],
            "_model_module": "@jupyter-widgets/controls",
            "_model_module_version": "1.5.0",
            "_model_name": "FloatProgressModel",
            "_view_count": null,
            "_view_module": "@jupyter-widgets/controls",
            "_view_module_version": "1.5.0",
            "_view_name": "ProgressView",
            "bar_style": "success",
            "description": "",
            "description_tooltip": null,
            "layout": "IPY_MODEL_bd2a258e03d540209e4179287cf99c64",
            "max": 860,
            "min": 0,
            "orientation": "horizontal",
            "style": "IPY_MODEL_39ddb30521634508a85fd340e4da06da",
            "value": 860
          }
        },
        "fd9ec142a08947a8af956104d81054c2": {
          "model_module": "@jupyter-widgets/controls",
          "model_name": "HTMLModel",
          "model_module_version": "1.5.0",
          "state": {
            "_dom_classes": [],
            "_model_module": "@jupyter-widgets/controls",
            "_model_module_version": "1.5.0",
            "_model_name": "HTMLModel",
            "_view_count": null,
            "_view_module": "@jupyter-widgets/controls",
            "_view_module_version": "1.5.0",
            "_view_name": "HTMLView",
            "description": "",
            "description_tooltip": null,
            "layout": "IPY_MODEL_a68be07045de4a3aa748d6337672805c",
            "placeholder": "​",
            "style": "IPY_MODEL_4dbd6c4440c84bb0941b176f060da719",
            "value": " 860/860 [00:38&lt;00:00, 22.62it/s, v_num=2, d_loss=0.179, g_loss=3.660]"
          }
        },
        "8934ed09adba40ddb507cc0084d1388f": {
          "model_module": "@jupyter-widgets/base",
          "model_name": "LayoutModel",
          "model_module_version": "1.2.0",
          "state": {
            "_model_module": "@jupyter-widgets/base",
            "_model_module_version": "1.2.0",
            "_model_name": "LayoutModel",
            "_view_count": null,
            "_view_module": "@jupyter-widgets/base",
            "_view_module_version": "1.2.0",
            "_view_name": "LayoutView",
            "align_content": null,
            "align_items": null,
            "align_self": null,
            "border": null,
            "bottom": null,
            "display": "inline-flex",
            "flex": null,
            "flex_flow": "row wrap",
            "grid_area": null,
            "grid_auto_columns": null,
            "grid_auto_flow": null,
            "grid_auto_rows": null,
            "grid_column": null,
            "grid_gap": null,
            "grid_row": null,
            "grid_template_areas": null,
            "grid_template_columns": null,
            "grid_template_rows": null,
            "height": null,
            "justify_content": null,
            "justify_items": null,
            "left": null,
            "margin": null,
            "max_height": null,
            "max_width": null,
            "min_height": null,
            "min_width": null,
            "object_fit": null,
            "object_position": null,
            "order": null,
            "overflow": null,
            "overflow_x": null,
            "overflow_y": null,
            "padding": null,
            "right": null,
            "top": null,
            "visibility": null,
            "width": "100%"
          }
        },
        "f3457814ac664d7cb820f854fbbc7134": {
          "model_module": "@jupyter-widgets/base",
          "model_name": "LayoutModel",
          "model_module_version": "1.2.0",
          "state": {
            "_model_module": "@jupyter-widgets/base",
            "_model_module_version": "1.2.0",
            "_model_name": "LayoutModel",
            "_view_count": null,
            "_view_module": "@jupyter-widgets/base",
            "_view_module_version": "1.2.0",
            "_view_name": "LayoutView",
            "align_content": null,
            "align_items": null,
            "align_self": null,
            "border": null,
            "bottom": null,
            "display": null,
            "flex": null,
            "flex_flow": null,
            "grid_area": null,
            "grid_auto_columns": null,
            "grid_auto_flow": null,
            "grid_auto_rows": null,
            "grid_column": null,
            "grid_gap": null,
            "grid_row": null,
            "grid_template_areas": null,
            "grid_template_columns": null,
            "grid_template_rows": null,
            "height": null,
            "justify_content": null,
            "justify_items": null,
            "left": null,
            "margin": null,
            "max_height": null,
            "max_width": null,
            "min_height": null,
            "min_width": null,
            "object_fit": null,
            "object_position": null,
            "order": null,
            "overflow": null,
            "overflow_x": null,
            "overflow_y": null,
            "padding": null,
            "right": null,
            "top": null,
            "visibility": null,
            "width": null
          }
        },
        "d6630508efdd4acb832d25019e6e1915": {
          "model_module": "@jupyter-widgets/controls",
          "model_name": "DescriptionStyleModel",
          "model_module_version": "1.5.0",
          "state": {
            "_model_module": "@jupyter-widgets/controls",
            "_model_module_version": "1.5.0",
            "_model_name": "DescriptionStyleModel",
            "_view_count": null,
            "_view_module": "@jupyter-widgets/base",
            "_view_module_version": "1.2.0",
            "_view_name": "StyleView",
            "description_width": ""
          }
        },
        "bd2a258e03d540209e4179287cf99c64": {
          "model_module": "@jupyter-widgets/base",
          "model_name": "LayoutModel",
          "model_module_version": "1.2.0",
          "state": {
            "_model_module": "@jupyter-widgets/base",
            "_model_module_version": "1.2.0",
            "_model_name": "LayoutModel",
            "_view_count": null,
            "_view_module": "@jupyter-widgets/base",
            "_view_module_version": "1.2.0",
            "_view_name": "LayoutView",
            "align_content": null,
            "align_items": null,
            "align_self": null,
            "border": null,
            "bottom": null,
            "display": null,
            "flex": "2",
            "flex_flow": null,
            "grid_area": null,
            "grid_auto_columns": null,
            "grid_auto_flow": null,
            "grid_auto_rows": null,
            "grid_column": null,
            "grid_gap": null,
            "grid_row": null,
            "grid_template_areas": null,
            "grid_template_columns": null,
            "grid_template_rows": null,
            "height": null,
            "justify_content": null,
            "justify_items": null,
            "left": null,
            "margin": null,
            "max_height": null,
            "max_width": null,
            "min_height": null,
            "min_width": null,
            "object_fit": null,
            "object_position": null,
            "order": null,
            "overflow": null,
            "overflow_x": null,
            "overflow_y": null,
            "padding": null,
            "right": null,
            "top": null,
            "visibility": null,
            "width": null
          }
        },
        "39ddb30521634508a85fd340e4da06da": {
          "model_module": "@jupyter-widgets/controls",
          "model_name": "ProgressStyleModel",
          "model_module_version": "1.5.0",
          "state": {
            "_model_module": "@jupyter-widgets/controls",
            "_model_module_version": "1.5.0",
            "_model_name": "ProgressStyleModel",
            "_view_count": null,
            "_view_module": "@jupyter-widgets/base",
            "_view_module_version": "1.2.0",
            "_view_name": "StyleView",
            "bar_color": null,
            "description_width": ""
          }
        },
        "a68be07045de4a3aa748d6337672805c": {
          "model_module": "@jupyter-widgets/base",
          "model_name": "LayoutModel",
          "model_module_version": "1.2.0",
          "state": {
            "_model_module": "@jupyter-widgets/base",
            "_model_module_version": "1.2.0",
            "_model_name": "LayoutModel",
            "_view_count": null,
            "_view_module": "@jupyter-widgets/base",
            "_view_module_version": "1.2.0",
            "_view_name": "LayoutView",
            "align_content": null,
            "align_items": null,
            "align_self": null,
            "border": null,
            "bottom": null,
            "display": null,
            "flex": null,
            "flex_flow": null,
            "grid_area": null,
            "grid_auto_columns": null,
            "grid_auto_flow": null,
            "grid_auto_rows": null,
            "grid_column": null,
            "grid_gap": null,
            "grid_row": null,
            "grid_template_areas": null,
            "grid_template_columns": null,
            "grid_template_rows": null,
            "height": null,
            "justify_content": null,
            "justify_items": null,
            "left": null,
            "margin": null,
            "max_height": null,
            "max_width": null,
            "min_height": null,
            "min_width": null,
            "object_fit": null,
            "object_position": null,
            "order": null,
            "overflow": null,
            "overflow_x": null,
            "overflow_y": null,
            "padding": null,
            "right": null,
            "top": null,
            "visibility": null,
            "width": null
          }
        },
        "4dbd6c4440c84bb0941b176f060da719": {
          "model_module": "@jupyter-widgets/controls",
          "model_name": "DescriptionStyleModel",
          "model_module_version": "1.5.0",
          "state": {
            "_model_module": "@jupyter-widgets/controls",
            "_model_module_version": "1.5.0",
            "_model_name": "DescriptionStyleModel",
            "_view_count": null,
            "_view_module": "@jupyter-widgets/base",
            "_view_module_version": "1.2.0",
            "_view_name": "StyleView",
            "description_width": ""
          }
        }
      }
    }
  },
  "cells": [
    {
      "cell_type": "markdown",
      "metadata": {
        "id": "view-in-github",
        "colab_type": "text"
      },
      "source": [
        "<a href=\"https://colab.research.google.com/github/msilver22/data_augmentation/blob/main/fashionMNIST/fashionMNIST_gan.ipynb\" target=\"_parent\"><img src=\"https://colab.research.google.com/assets/colab-badge.svg\" alt=\"Open In Colab\"/></a>"
      ]
    },
    {
      "cell_type": "code",
      "execution_count": 1,
      "metadata": {
        "id": "g2ibUBnV9OaH",
        "colab": {
          "base_uri": "https://localhost:8080/"
        },
        "outputId": "1528758d-917a-49c4-a21d-be7085446169"
      },
      "outputs": [
        {
          "output_type": "stream",
          "name": "stdout",
          "text": [
            "\u001b[2K   \u001b[90m━━━━━━━━━━━━━━━━━━━━━━━━━━━━━━━━━━━━━━━━\u001b[0m \u001b[32m815.2/815.2 kB\u001b[0m \u001b[31m9.0 MB/s\u001b[0m eta \u001b[36m0:00:00\u001b[0m\n",
            "\u001b[2K   \u001b[90m━━━━━━━━━━━━━━━━━━━━━━━━━━━━━━━━━━━━━━━━\u001b[0m \u001b[32m866.2/866.2 kB\u001b[0m \u001b[31m1.0 MB/s\u001b[0m eta \u001b[36m0:00:00\u001b[0m\n",
            "\u001b[?25h"
          ]
        }
      ],
      "source": [
        "!pip install pytorch-lightning --q"
      ]
    },
    {
      "cell_type": "code",
      "source": [
        "!pip install lightning --q"
      ],
      "metadata": {
        "id": "KorYoTNW9TeN",
        "colab": {
          "base_uri": "https://localhost:8080/"
        },
        "outputId": "c8e6d8ea-5346-4358-e2cd-a89428cec294"
      },
      "execution_count": 2,
      "outputs": [
        {
          "output_type": "stream",
          "name": "stdout",
          "text": [
            "\u001b[?25l   \u001b[90m━━━━━━━━━━━━━━━━━━━━━━━━━━━━━━━━━━━━━━━━\u001b[0m \u001b[32m0.0/811.0 kB\u001b[0m \u001b[31m?\u001b[0m eta \u001b[36m-:--:--\u001b[0m\r\u001b[2K   \u001b[91m━━━━━━━━━━━━━━━━━━━━━━━━━━━━━━━━━━━━━━━\u001b[0m\u001b[91m╸\u001b[0m \u001b[32m809.0/811.0 kB\u001b[0m \u001b[31m30.7 MB/s\u001b[0m eta \u001b[36m0:00:01\u001b[0m\r\u001b[2K   \u001b[90m━━━━━━━━━━━━━━━━━━━━━━━━━━━━━━━━━━━━━━━━\u001b[0m \u001b[32m811.0/811.0 kB\u001b[0m \u001b[31m18.6 MB/s\u001b[0m eta \u001b[36m0:00:00\u001b[0m\n",
            "\u001b[?25h"
          ]
        }
      ]
    },
    {
      "cell_type": "code",
      "source": [
        "import os\n",
        "import lightning as L\n",
        "import numpy as np\n",
        "import torch\n",
        "import torch.nn as nn\n",
        "import torch.nn.functional as F\n",
        "import torchvision\n",
        "import torchvision.transforms as transforms\n",
        "from torch.utils.data import DataLoader, random_split\n",
        "from torchvision import datasets\n",
        "import matplotlib.pyplot as plt\n",
        "import scipy\n",
        "import torch.optim as optim"
      ],
      "metadata": {
        "id": "9B3kJ0IV9WIP"
      },
      "execution_count": 3,
      "outputs": []
    },
    {
      "cell_type": "code",
      "source": [
        "device = 'cuda' if torch.cuda.is_available() else 'cpu'\n",
        "print(f'Using device: {device}')\n",
        "BATCH_SIZE = 64\n",
        "NUM_WORKERS = int(os.cpu_count() / 2)\n",
        "print(f'Number of workers: {NUM_WORKERS}')\n",
        "PATH_DATASETS = os.environ.get(\"PATH_DATASETS\", \".\")"
      ],
      "metadata": {
        "colab": {
          "base_uri": "https://localhost:8080/"
        },
        "id": "QcmBJ1sF9ZQF",
        "outputId": "7fba9936-1077-4790-b7f7-8eb0b0879236"
      },
      "execution_count": 4,
      "outputs": [
        {
          "output_type": "stream",
          "name": "stdout",
          "text": [
            "Using device: cuda\n",
            "Number of workers: 1\n"
          ]
        }
      ]
    },
    {
      "cell_type": "code",
      "source": [
        "class FashionMNISTDataModule(L.LightningDataModule):\n",
        "    def __init__(\n",
        "        self,\n",
        "        data_dir: str = PATH_DATASETS,\n",
        "        batch_size: int = BATCH_SIZE,\n",
        "        num_workers: int = NUM_WORKERS,\n",
        "    ):\n",
        "        super().__init__()\n",
        "\n",
        "        self.data_dir = data_dir\n",
        "        self.batch_size = batch_size\n",
        "        self.num_workers = num_workers\n",
        "        self.transform = transforms.Compose([\n",
        "            transforms.ToTensor(),\n",
        "            transforms.Normalize((0.5,), (0.5,))\n",
        "            ])\n",
        "        self.dims = (1, 28, 28)\n",
        "\n",
        "    def setup(self, stage=None):\n",
        "        # Assign train/val datasets for use in dataloaders\n",
        "        if stage == \"fit\" or stage is None:\n",
        "            fmnist_full = datasets.FashionMNIST(self.data_dir, train=True, download = True, transform=self.transform)\n",
        "            self.fmnist_train, self.fmnist_val = random_split(fmnist_full, [55000, 5000])\n",
        "\n",
        "        # Assign test dataset for use in dataloader(s)\n",
        "        if stage == \"test\" or stage is None:\n",
        "            self.fmnist_test = datasets.FashionMNIST(self.data_dir, train=False, download = True, transform=self.transform)\n",
        "\n",
        "    def train_dataloader(self):\n",
        "        return DataLoader(\n",
        "            self.fmnist_train,\n",
        "            batch_size=self.batch_size,\n",
        "            num_workers=self.num_workers,\n",
        "        )\n",
        "\n",
        "    def val_dataloader(self):\n",
        "        return DataLoader(self.fmnist_val, batch_size=self.batch_size, num_workers=self.num_workers)\n",
        "\n",
        "    def test_dataloader(self):\n",
        "        return DataLoader(self.fmnist_test, batch_size=self.batch_size, num_workers=self.num_workers)"
      ],
      "metadata": {
        "id": "a3_zBVh79a7i"
      },
      "execution_count": 5,
      "outputs": []
    },
    {
      "cell_type": "code",
      "source": [
        "class Generator(nn.Module):\n",
        "    def __init__(self, in_features=100, out_features=784):\n",
        "        super().__init__()\n",
        "        self.model = nn.Sequential(\n",
        "            nn.Linear(in_features, 256),\n",
        "            nn.LeakyReLU(0.2),\n",
        "            nn.Dropout(0.3),\n",
        "            nn.Linear(256,512),\n",
        "            nn.LeakyReLU(0.2),\n",
        "            nn.Dropout(0.3),\n",
        "            nn.Linear(512, 1024),\n",
        "            nn.LeakyReLU(0.2),\n",
        "            nn.Dropout(0.3),\n",
        "            nn.Linear(1024, out_features),\n",
        "            nn.Tanh()\n",
        "        )\n",
        "\n",
        "    def forward(self, z):\n",
        "        z = self.model(z)\n",
        "        z = z.view(z.size(0), -1)\n",
        "        return z"
      ],
      "metadata": {
        "id": "rYGumtBX9epT"
      },
      "execution_count": 6,
      "outputs": []
    },
    {
      "cell_type": "code",
      "source": [
        "class Discriminator(nn.Module):\n",
        "    def __init__(self, in_features=784, out_features=1):\n",
        "        super().__init__()\n",
        "        self.model = nn.Sequential(\n",
        "            nn.Linear(in_features, 1024),\n",
        "            nn.LeakyReLU(0.2),\n",
        "            nn.Dropout(0.3),\n",
        "            nn.Linear(1024, 512),\n",
        "            nn.LeakyReLU(0.2),\n",
        "            nn.Dropout(0.3),\n",
        "            nn.Linear(512, 256),\n",
        "            nn.LeakyReLU(0.2),\n",
        "            nn.Dropout(0.3),\n",
        "            nn.Linear(256,out_features)\n",
        "        )\n",
        "\n",
        "    def forward(self, x):\n",
        "        x = x.view(x.size(0), -1)\n",
        "        return self.model(x)"
      ],
      "metadata": {
        "id": "7H7vnxOr9gxm"
      },
      "execution_count": 7,
      "outputs": []
    },
    {
      "cell_type": "code",
      "source": [
        "class GAN(L.LightningModule):\n",
        "    def __init__(\n",
        "        self,\n",
        "        latent_dim: int = 100,\n",
        "        lr: float = 0.0002,\n",
        "        k : int=5,\n",
        "        b1: float = 0.5,\n",
        "        b2: float = 0.999,\n",
        "        batch_size: int = BATCH_SIZE,\n",
        "        **kwargs,\n",
        "    ):\n",
        "        super().__init__()\n",
        "        self.save_hyperparameters()\n",
        "        self.automatic_optimization = False\n",
        "\n",
        "        self.batch_size = batch_size\n",
        "        self.latent_dim = latent_dim\n",
        "        self.lr = lr\n",
        "        self.b1 = b1\n",
        "        self.b2 = b2\n",
        "        self.k = k\n",
        "\n",
        "        # networks\n",
        "        self.generator = Generator(in_features=self.latent_dim, out_features=784)\n",
        "        self.discriminator = Discriminator(in_features=784,out_features=1)\n",
        "\n",
        "        # loss\n",
        "        self.loss_fn = nn.BCEWithLogitsLoss()\n",
        "        self.training_step_outputs_d = []\n",
        "        self.training_step_outputs_g = []\n",
        "        self.d_losses = []\n",
        "        self.g_losses = []\n",
        "\n",
        "    def forward(self, z):\n",
        "        return self.generator(z)\n",
        "\n",
        "    def real_loss(self, predicted_outputs, loss_fn, device):\n",
        "\n",
        "        # Targets are set to 1 here because we expect prediction to be\n",
        "        # 1 (or near 1) since samples are drawn from real dataset\n",
        "        batch_size = predicted_outputs.size(0)\n",
        "        targets = torch.ones(batch_size).to(device)\n",
        "        real_loss = loss_fn(predicted_outputs.squeeze(), targets)\n",
        "\n",
        "        return real_loss\n",
        "\n",
        "    def fake_loss(self, predicted_outputs, loss_fn, device):\n",
        "\n",
        "        # Targets are set to 0 here because we expect prediction to be\n",
        "        # 0 (or near 0) since samples are generated fake samples\n",
        "        batch_size = predicted_outputs.size(0)\n",
        "        targets = torch.zeros(batch_size).to(device)\n",
        "        fake_loss = loss_fn(predicted_outputs.squeeze(), targets)\n",
        "\n",
        "        return fake_loss\n",
        "\n",
        "    def training_step(self, batch):\n",
        "        imgs, _ = batch\n",
        "        imgs = imgs.to(device)\n",
        "\n",
        "        optimizer_g, optimizer_d = self.optimizers()\n",
        "\n",
        "        ## ----------------------------------------------------------------\n",
        "        ## Train discriminator using real and then fake MNIST images,\n",
        "        ## then compute the total-loss and back-propogate the total-loss\n",
        "        ## ----------------------------------------------------------------\n",
        "\n",
        "        self.toggle_optimizer(optimizer_d)\n",
        "\n",
        "        for _ in range(self.k):\n",
        "          # Real MNIST images\n",
        "          d_real_logits_out = self.discriminator(imgs)\n",
        "          d_real_loss = self.real_loss(d_real_logits_out, self.loss_fn, device)\n",
        "          # Fake images\n",
        "          with torch.no_grad():\n",
        "            # Generate a batch of random latent vectors\n",
        "            z = np.random.uniform(-1, 1, size=(self.batch_size, self.latent_dim))\n",
        "            z = torch.from_numpy(z).float().to(device)\n",
        "            # Generate batch of fake images\n",
        "            fake_images = self(z)\n",
        "          # feed fake-images to discriminator and compute the\n",
        "          # fake_loss (i.e. target label = 0)\n",
        "          d_fake_logits_out = self.discriminator(fake_images)\n",
        "          d_fake_loss = self.fake_loss(d_fake_logits_out, self.loss_fn, device)\n",
        "\n",
        "          # Compute total discriminator loss\n",
        "          d_loss = d_real_loss + d_fake_loss\n",
        "          self.log('d_loss', d_loss, on_step=True, prog_bar=True, logger=True)\n",
        "          self.manual_backward(d_loss)\n",
        "          optimizer_d.step()\n",
        "          optimizer_d.zero_grad()\n",
        "\n",
        "        self.untoggle_optimizer(optimizer_d)\n",
        "\n",
        "        ## ----------------------------------------------------------------\n",
        "        ## Train generator, compute the generator loss which is a measure\n",
        "        ## of how successful the generator is in tricking the discriminator\n",
        "        ## and finally back-propogate generator loss\n",
        "        ## ----------------------------------------------------------------\n",
        "\n",
        "        self.toggle_optimizer(optimizer_g)\n",
        "\n",
        "        # Generate a batch of random latent vectors\n",
        "        z = np.random.uniform(-1, 1, size=(self.batch_size, self.hparams.latent_dim))\n",
        "        z = torch.from_numpy(z).float().to(device)\n",
        "        # Generate a batch of fake images, feed them to discriminator\n",
        "        # and compute the generator loss as real_loss\n",
        "        # (i.e. target label = 1)\n",
        "        fake_images = self.generator(z)\n",
        "        g_logits_out = self.discriminator(fake_images)\n",
        "        g_loss = self.real_loss(g_logits_out, self.loss_fn, device)\n",
        "        self.log(\"g_loss\", g_loss, prog_bar=True)\n",
        "        self.manual_backward(g_loss)\n",
        "        optimizer_g.step()\n",
        "        optimizer_g.zero_grad()\n",
        "        self.untoggle_optimizer(optimizer_g)\n",
        "\n",
        "        self.training_step_outputs_d.append(d_loss)\n",
        "        self.training_step_outputs_g.append(g_loss)\n",
        "\n",
        "    def on_train_epoch_end(self):\n",
        "        d_loss_epoch = torch.stack(self.training_step_outputs_d).mean()\n",
        "        g_loss_epoch = torch.stack(self.training_step_outputs_g).mean()\n",
        "        self.d_losses.append(d_loss_epoch.item())\n",
        "        self.g_losses.append(g_loss_epoch.item())\n",
        "        self.training_step_outputs_d.clear()  # free memory\n",
        "        self.training_step_outputs_g.clear()\n",
        "\n",
        "        # Save generator weights at specific epochs\n",
        "        save_epochs = [1, 5, 10, 20, 40, 60, 80, 100, 200]\n",
        "        if self.current_epoch + 1 in save_epochs:\n",
        "           torch.save(self.generator.state_dict(), f'generator_epoch_{self.current_epoch + 1}.pth')\n",
        "\n",
        "    def configure_optimizers(self):\n",
        "        lr = self.lr\n",
        "        b1 = self.b1\n",
        "        b2 = self.b2\n",
        "        opt_g = torch.optim.Adam(self.generator.parameters(), lr=lr, betas=(b1, b2))\n",
        "        opt_d = torch.optim.Adam(self.discriminator.parameters(), lr=lr, betas=(b1, b2))\n",
        "        return [opt_g, opt_d], []"
      ],
      "metadata": {
        "id": "FmHTB5c29pIz"
      },
      "execution_count": 11,
      "outputs": []
    },
    {
      "cell_type": "code",
      "source": [
        "def main():\n",
        "    dm = FashionMNISTDataModule()\n",
        "    model = GAN()\n",
        "    trainer = L.Trainer(\n",
        "        max_epochs=100,\n",
        "    )\n",
        "    trainer.fit(model, dm)\n",
        "    torch.save(model.generator.state_dict(), 'generator_weights_final.pth')\n",
        "    print(\"[LOG] Generator weights saved.\")\n",
        "    d_losses = model.d_losses\n",
        "    g_losses = model.g_losses\n",
        "    plot_epochs = range(0, len(g_losses))\n",
        "\n",
        "    plt.figure(figsize=(10, 6))\n",
        "    plt.plot(plot_epochs, d_losses, \"-o\", label=\"Discriminator loss\", color=\"blue\")\n",
        "    plt.plot(plot_epochs, g_losses, \"-o\", label=\"Generator loss\", color=\"orange\")\n",
        "    plt.title(\"Loss functions over Epochs\")\n",
        "    plt.xlabel(\"Epoch\")\n",
        "    plt.ylabel(\"BCE Loss\")\n",
        "    plt.legend()\n",
        "    plt.grid(True)\n",
        "    plt.show()\n",
        "\n",
        "if __name__ == '__main__':\n",
        "    main()"
      ],
      "metadata": {
        "colab": {
          "base_uri": "https://localhost:8080/",
          "height": 1000,
          "referenced_widgets": [
            "c85380a24b1a43ae92c737a83066f0fa",
            "96a1e2e0582446d7b952584c0be65d51",
            "1edc87de49b14e59b0317d7ffbcbf720",
            "fd9ec142a08947a8af956104d81054c2",
            "8934ed09adba40ddb507cc0084d1388f",
            "f3457814ac664d7cb820f854fbbc7134",
            "d6630508efdd4acb832d25019e6e1915",
            "bd2a258e03d540209e4179287cf99c64",
            "39ddb30521634508a85fd340e4da06da",
            "a68be07045de4a3aa748d6337672805c",
            "4dbd6c4440c84bb0941b176f060da719"
          ]
        },
        "id": "RGxwScn4-GtW",
        "outputId": "81d84789-7f75-4dc7-d0d6-b646efb409af"
      },
      "execution_count": 12,
      "outputs": [
        {
          "output_type": "stream",
          "name": "stderr",
          "text": [
            "INFO: GPU available: True (cuda), used: True\n",
            "INFO:lightning.pytorch.utilities.rank_zero:GPU available: True (cuda), used: True\n",
            "INFO: TPU available: False, using: 0 TPU cores\n",
            "INFO:lightning.pytorch.utilities.rank_zero:TPU available: False, using: 0 TPU cores\n",
            "INFO: HPU available: False, using: 0 HPUs\n",
            "INFO:lightning.pytorch.utilities.rank_zero:HPU available: False, using: 0 HPUs\n",
            "INFO: LOCAL_RANK: 0 - CUDA_VISIBLE_DEVICES: [0]\n",
            "INFO:lightning.pytorch.accelerators.cuda:LOCAL_RANK: 0 - CUDA_VISIBLE_DEVICES: [0]\n",
            "INFO: \n",
            "  | Name          | Type              | Params | Mode \n",
            "------------------------------------------------------------\n",
            "0 | generator     | Generator         | 1.5 M  | train\n",
            "1 | discriminator | Discriminator     | 1.5 M  | train\n",
            "2 | loss_fn       | BCEWithLogitsLoss | 0      | train\n",
            "------------------------------------------------------------\n",
            "2.9 M     Trainable params\n",
            "0         Non-trainable params\n",
            "2.9 M     Total params\n",
            "11.786    Total estimated model params size (MB)\n",
            "26        Modules in train mode\n",
            "0         Modules in eval mode\n",
            "INFO:lightning.pytorch.callbacks.model_summary:\n",
            "  | Name          | Type              | Params | Mode \n",
            "------------------------------------------------------------\n",
            "0 | generator     | Generator         | 1.5 M  | train\n",
            "1 | discriminator | Discriminator     | 1.5 M  | train\n",
            "2 | loss_fn       | BCEWithLogitsLoss | 0      | train\n",
            "------------------------------------------------------------\n",
            "2.9 M     Trainable params\n",
            "0         Non-trainable params\n",
            "2.9 M     Total params\n",
            "11.786    Total estimated model params size (MB)\n",
            "26        Modules in train mode\n",
            "0         Modules in eval mode\n",
            "/usr/lib/python3.10/multiprocessing/popen_fork.py:66: RuntimeWarning: os.fork() was called. os.fork() is incompatible with multithreaded code, and JAX is multithreaded, so this will likely lead to a deadlock.\n",
            "  self.pid = os.fork()\n"
          ]
        },
        {
          "output_type": "display_data",
          "data": {
            "text/plain": [
              "Training: |          | 0/? [00:00<?, ?it/s]"
            ],
            "application/vnd.jupyter.widget-view+json": {
              "version_major": 2,
              "version_minor": 0,
              "model_id": "c85380a24b1a43ae92c737a83066f0fa"
            }
          },
          "metadata": {}
        },
        {
          "output_type": "stream",
          "name": "stderr",
          "text": [
            "INFO: `Trainer.fit` stopped: `max_epochs=100` reached.\n",
            "INFO:lightning.pytorch.utilities.rank_zero:`Trainer.fit` stopped: `max_epochs=100` reached.\n"
          ]
        },
        {
          "output_type": "stream",
          "name": "stdout",
          "text": [
            "[LOG] Generator weights saved.\n"
          ]
        },
        {
          "output_type": "display_data",
          "data": {
            "text/plain": [
              "<Figure size 1000x600 with 1 Axes>"
            ],
            "image/png": "[encoded data removed]"
          },
          "metadata": {}
        }
      ]
    },
    {
      "cell_type": "code",
      "source": [
        "import math\n",
        "\n",
        "def display_images(images, n_cols=4, figsize=(12, 6)):\n",
        "\n",
        "    plt.style.use('ggplot')\n",
        "    n_images = len(images)\n",
        "    n_rows = math.ceil(n_images / n_cols)\n",
        "    plt.figure(figsize=figsize)\n",
        "    for idx in range(n_images):\n",
        "        ax = plt.subplot(n_rows, n_cols, idx+1)\n",
        "        image = images[idx]\n",
        "        # make dims H x W x C\n",
        "        image = image.permute(1, 2, 0)\n",
        "        cmap = plt.cm.viridis\n",
        "        ax.imshow(image, cmap=cmap)\n",
        "        ax.set_xticks([])\n",
        "        ax.set_yticks([])\n",
        "    plt.tight_layout()\n",
        "    plt.show()\n",
        "\n",
        "latent_dim = 100\n",
        "g = Generator(in_features=100, out_features=784)\n",
        "g.load_state_dict(torch.load('generator_epoch_100.pth'))\n",
        "g.eval()\n",
        "z = np.random.uniform(-1, 1, size=(32, 100))\n",
        "z = torch.from_numpy(z).float()\n",
        "fake_images = g(z)\n",
        "# Reshape and display\n",
        "fake_images = fake_images.view(32, 1, 28, 28).detach()\n",
        "display_images(fake_images, n_cols=8)"
      ],
      "metadata": {
        "id": "O0s4OzwuOSW8",
        "colab": {
          "base_uri": "https://localhost:8080/",
          "height": 607
        },
        "outputId": "c3f0c7a3-d8dc-44ed-b3e2-7198df40ddd8"
      },
      "execution_count": 21,
      "outputs": [
        {
          "output_type": "display_data",
          "data": {
            "text/plain": [
              "<Figure size 1200x600 with 32 Axes>"
            ],
            "image/png": "[encoded data removed]"
          },
          "metadata": {}
        }
      ]
    }
  ]
}