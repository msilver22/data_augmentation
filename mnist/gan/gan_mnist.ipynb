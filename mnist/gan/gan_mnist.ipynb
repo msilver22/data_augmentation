{
  "nbformat": 4,
  "nbformat_minor": 0,
  "metadata": {
    "colab": {
      "provenance": [],
      "authorship_tag": "ABX9TyPa/FiUjNAShxOQ1tLRL9qh",
      "include_colab_link": true
    },
    "kernelspec": {
      "name": "python3",
      "display_name": "Python 3"
    },
    "language_info": {
      "name": "python"
    },
    "widgets": {
      "application/vnd.jupyter.widget-state+json": {
        "be43caf8eaa94836b3baf08ea80691ef": {
          "model_module": "@jupyter-widgets/controls",
          "model_name": "HBoxModel",
          "model_module_version": "1.5.0",
          "state": {
            "_dom_classes": [],
            "_model_module": "@jupyter-widgets/controls",
            "_model_module_version": "1.5.0",
            "_model_name": "HBoxModel",
            "_view_count": null,
            "_view_module": "@jupyter-widgets/controls",
            "_view_module_version": "1.5.0",
            "_view_name": "HBoxView",
            "box_style": "",
            "children": [
              "IPY_MODEL_e9298a2e86d741428df6da431a236319",
              "IPY_MODEL_1f3d8c070f6e44d2a7ca2681f73aae0e",
              "IPY_MODEL_f8c17b39a9654ce4bef6178244b64447"
            ],
            "layout": "IPY_MODEL_69c99f85ef20455f89ca84e569be98b0"
          }
        },
        "e9298a2e86d741428df6da431a236319": {
          "model_module": "@jupyter-widgets/controls",
          "model_name": "HTMLModel",
          "model_module_version": "1.5.0",
          "state": {
            "_dom_classes": [],
            "_model_module": "@jupyter-widgets/controls",
            "_model_module_version": "1.5.0",
            "_model_name": "HTMLModel",
            "_view_count": null,
            "_view_module": "@jupyter-widgets/controls",
            "_view_module_version": "1.5.0",
            "_view_name": "HTMLView",
            "description": "",
            "description_tooltip": null,
            "layout": "IPY_MODEL_9313f9bca1ba4783908a25a1ab97c00b",
            "placeholder": "​",
            "style": "IPY_MODEL_09a9c23a28db4e8ea7f77f000ffcc343",
            "value": "Epoch 99: 100%"
          }
        },
        "1f3d8c070f6e44d2a7ca2681f73aae0e": {
          "model_module": "@jupyter-widgets/controls",
          "model_name": "FloatProgressModel",
          "model_module_version": "1.5.0",
          "state": {
            "_dom_classes": [],
            "_model_module": "@jupyter-widgets/controls",
            "_model_module_version": "1.5.0",
            "_model_name": "FloatProgressModel",
            "_view_count": null,
            "_view_module": "@jupyter-widgets/controls",
            "_view_module_version": "1.5.0",
            "_view_name": "ProgressView",
            "bar_style": "success",
            "description": "",
            "description_tooltip": null,
            "layout": "IPY_MODEL_a2039d637aa5492eaa3139c843c054e7",
            "max": 860,
            "min": 0,
            "orientation": "horizontal",
            "style": "IPY_MODEL_23ad0b6144bd4bda999450ad940e6051",
            "value": 860
          }
        },
        "f8c17b39a9654ce4bef6178244b64447": {
          "model_module": "@jupyter-widgets/controls",
          "model_name": "HTMLModel",
          "model_module_version": "1.5.0",
          "state": {
            "_dom_classes": [],
            "_model_module": "@jupyter-widgets/controls",
            "_model_module_version": "1.5.0",
            "_model_name": "HTMLModel",
            "_view_count": null,
            "_view_module": "@jupyter-widgets/controls",
            "_view_module_version": "1.5.0",
            "_view_name": "HTMLView",
            "description": "",
            "description_tooltip": null,
            "layout": "IPY_MODEL_512fd57d0a064c09a70346e9b263a64a",
            "placeholder": "​",
            "style": "IPY_MODEL_69f94d5c625844919c989f2a574fa0a5",
            "value": " 860/860 [00:35&lt;00:00, 24.05it/s, v_num=4, d_loss=1.060, g_loss=1.190]"
          }
        },
        "69c99f85ef20455f89ca84e569be98b0": {
          "model_module": "@jupyter-widgets/base",
          "model_name": "LayoutModel",
          "model_module_version": "1.2.0",
          "state": {
            "_model_module": "@jupyter-widgets/base",
            "_model_module_version": "1.2.0",
            "_model_name": "LayoutModel",
            "_view_count": null,
            "_view_module": "@jupyter-widgets/base",
            "_view_module_version": "1.2.0",
            "_view_name": "LayoutView",
            "align_content": null,
            "align_items": null,
            "align_self": null,
            "border": null,
            "bottom": null,
            "display": "inline-flex",
            "flex": null,
            "flex_flow": "row wrap",
            "grid_area": null,
            "grid_auto_columns": null,
            "grid_auto_flow": null,
            "grid_auto_rows": null,
            "grid_column": null,
            "grid_gap": null,
            "grid_row": null,
            "grid_template_areas": null,
            "grid_template_columns": null,
            "grid_template_rows": null,
            "height": null,
            "justify_content": null,
            "justify_items": null,
            "left": null,
            "margin": null,
            "max_height": null,
            "max_width": null,
            "min_height": null,
            "min_width": null,
            "object_fit": null,
            "object_position": null,
            "order": null,
            "overflow": null,
            "overflow_x": null,
            "overflow_y": null,
            "padding": null,
            "right": null,
            "top": null,
            "visibility": null,
            "width": "100%"
          }
        },
        "9313f9bca1ba4783908a25a1ab97c00b": {
          "model_module": "@jupyter-widgets/base",
          "model_name": "LayoutModel",
          "model_module_version": "1.2.0",
          "state": {
            "_model_module": "@jupyter-widgets/base",
            "_model_module_version": "1.2.0",
            "_model_name": "LayoutModel",
            "_view_count": null,
            "_view_module": "@jupyter-widgets/base",
            "_view_module_version": "1.2.0",
            "_view_name": "LayoutView",
            "align_content": null,
            "align_items": null,
            "align_self": null,
            "border": null,
            "bottom": null,
            "display": null,
            "flex": null,
            "flex_flow": null,
            "grid_area": null,
            "grid_auto_columns": null,
            "grid_auto_flow": null,
            "grid_auto_rows": null,
            "grid_column": null,
            "grid_gap": null,
            "grid_row": null,
            "grid_template_areas": null,
            "grid_template_columns": null,
            "grid_template_rows": null,
            "height": null,
            "justify_content": null,
            "justify_items": null,
            "left": null,
            "margin": null,
            "max_height": null,
            "max_width": null,
            "min_height": null,
            "min_width": null,
            "object_fit": null,
            "object_position": null,
            "order": null,
            "overflow": null,
            "overflow_x": null,
            "overflow_y": null,
            "padding": null,
            "right": null,
            "top": null,
            "visibility": null,
            "width": null
          }
        },
        "09a9c23a28db4e8ea7f77f000ffcc343": {
          "model_module": "@jupyter-widgets/controls",
          "model_name": "DescriptionStyleModel",
          "model_module_version": "1.5.0",
          "state": {
            "_model_module": "@jupyter-widgets/controls",
            "_model_module_version": "1.5.0",
            "_model_name": "DescriptionStyleModel",
            "_view_count": null,
            "_view_module": "@jupyter-widgets/base",
            "_view_module_version": "1.2.0",
            "_view_name": "StyleView",
            "description_width": ""
          }
        },
        "a2039d637aa5492eaa3139c843c054e7": {
          "model_module": "@jupyter-widgets/base",
          "model_name": "LayoutModel",
          "model_module_version": "1.2.0",
          "state": {
            "_model_module": "@jupyter-widgets/base",
            "_model_module_version": "1.2.0",
            "_model_name": "LayoutModel",
            "_view_count": null,
            "_view_module": "@jupyter-widgets/base",
            "_view_module_version": "1.2.0",
            "_view_name": "LayoutView",
            "align_content": null,
            "align_items": null,
            "align_self": null,
            "border": null,
            "bottom": null,
            "display": null,
            "flex": "2",
            "flex_flow": null,
            "grid_area": null,
            "grid_auto_columns": null,
            "grid_auto_flow": null,
            "grid_auto_rows": null,
            "grid_column": null,
            "grid_gap": null,
            "grid_row": null,
            "grid_template_areas": null,
            "grid_template_columns": null,
            "grid_template_rows": null,
            "height": null,
            "justify_content": null,
            "justify_items": null,
            "left": null,
            "margin": null,
            "max_height": null,
            "max_width": null,
            "min_height": null,
            "min_width": null,
            "object_fit": null,
            "object_position": null,
            "order": null,
            "overflow": null,
            "overflow_x": null,
            "overflow_y": null,
            "padding": null,
            "right": null,
            "top": null,
            "visibility": null,
            "width": null
          }
        },
        "23ad0b6144bd4bda999450ad940e6051": {
          "model_module": "@jupyter-widgets/controls",
          "model_name": "ProgressStyleModel",
          "model_module_version": "1.5.0",
          "state": {
            "_model_module": "@jupyter-widgets/controls",
            "_model_module_version": "1.5.0",
            "_model_name": "ProgressStyleModel",
            "_view_count": null,
            "_view_module": "@jupyter-widgets/base",
            "_view_module_version": "1.2.0",
            "_view_name": "StyleView",
            "bar_color": null,
            "description_width": ""
          }
        },
        "512fd57d0a064c09a70346e9b263a64a": {
          "model_module": "@jupyter-widgets/base",
          "model_name": "LayoutModel",
          "model_module_version": "1.2.0",
          "state": {
            "_model_module": "@jupyter-widgets/base",
            "_model_module_version": "1.2.0",
            "_model_name": "LayoutModel",
            "_view_count": null,
            "_view_module": "@jupyter-widgets/base",
            "_view_module_version": "1.2.0",
            "_view_name": "LayoutView",
            "align_content": null,
            "align_items": null,
            "align_self": null,
            "border": null,
            "bottom": null,
            "display": null,
            "flex": null,
            "flex_flow": null,
            "grid_area": null,
            "grid_auto_columns": null,
            "grid_auto_flow": null,
            "grid_auto_rows": null,
            "grid_column": null,
            "grid_gap": null,
            "grid_row": null,
            "grid_template_areas": null,
            "grid_template_columns": null,
            "grid_template_rows": null,
            "height": null,
            "justify_content": null,
            "justify_items": null,
            "left": null,
            "margin": null,
            "max_height": null,
            "max_width": null,
            "min_height": null,
            "min_width": null,
            "object_fit": null,
            "object_position": null,
            "order": null,
            "overflow": null,
            "overflow_x": null,
            "overflow_y": null,
            "padding": null,
            "right": null,
            "top": null,
            "visibility": null,
            "width": null
          }
        },
        "69f94d5c625844919c989f2a574fa0a5": {
          "model_module": "@jupyter-widgets/controls",
          "model_name": "DescriptionStyleModel",
          "model_module_version": "1.5.0",
          "state": {
            "_model_module": "@jupyter-widgets/controls",
            "_model_module_version": "1.5.0",
            "_model_name": "DescriptionStyleModel",
            "_view_count": null,
            "_view_module": "@jupyter-widgets/base",
            "_view_module_version": "1.2.0",
            "_view_name": "StyleView",
            "description_width": ""
          }
        }
      }
    }
  },
  "cells": [
    {
      "cell_type": "markdown",
      "metadata": {
        "id": "view-in-github",
        "colab_type": "text"
      },
      "source": [
        "<a href=\"https://colab.research.google.com/github/msilver22/data_augmentation/blob/main/mnist/gan/gan_mnist.ipynb\" target=\"_parent\"><img src=\"https://colab.research.google.com/assets/colab-badge.svg\" alt=\"Open In Colab\"/></a>"
      ]
    },
    {
      "cell_type": "code",
      "source": [
        "!pip install pytorch-lightning --q\n"
      ],
      "metadata": {
        "colab": {
          "base_uri": "https://localhost:8080/"
        },
        "id": "V34Qnj7b6la_",
        "outputId": "669a947a-cd4c-4eff-8d58-19e9b0882a1c"
      },
      "execution_count": null,
      "outputs": [
        {
          "output_type": "stream",
          "name": "stdout",
          "text": [
            "\u001b[2K   \u001b[90m━━━━━━━━━━━━━━━━━━━━━━━━━━━━━━━━━━━━━━━━\u001b[0m \u001b[32m815.2/815.2 kB\u001b[0m \u001b[31m5.3 MB/s\u001b[0m eta \u001b[36m0:00:00\u001b[0m\n",
            "\u001b[2K   \u001b[90m━━━━━━━━━━━━━━━━━━━━━━━━━━━━━━━━━━━━━━━━\u001b[0m \u001b[32m866.2/866.2 kB\u001b[0m \u001b[31m8.0 MB/s\u001b[0m eta \u001b[36m0:00:00\u001b[0m\n",
            "\u001b[?25h"
          ]
        }
      ]
    },
    {
      "cell_type": "code",
      "source": [
        "!pip install lightning --q"
      ],
      "metadata": {
        "colab": {
          "base_uri": "https://localhost:8080/"
        },
        "id": "GuiE4Kk368je",
        "outputId": "a6cf507e-378b-48b5-e842-d2118da4cdc8"
      },
      "execution_count": null,
      "outputs": [
        {
          "output_type": "stream",
          "name": "stdout",
          "text": [
            "\u001b[?25l   \u001b[90m━━━━━━━━━━━━━━━━━━━━━━━━━━━━━━━━━━━━━━━━\u001b[0m \u001b[32m0.0/811.0 kB\u001b[0m \u001b[31m?\u001b[0m eta \u001b[36m-:--:--\u001b[0m\r\u001b[2K   \u001b[91m━━━\u001b[0m\u001b[90m╺\u001b[0m\u001b[90m━━━━━━━━━━━━━━━━━━━━━━━━━━━━━━━━━━━━\u001b[0m \u001b[32m61.4/811.0 kB\u001b[0m \u001b[31m1.7 MB/s\u001b[0m eta \u001b[36m0:00:01\u001b[0m\r\u001b[2K   \u001b[91m━━━━━━━━━━━\u001b[0m\u001b[91m╸\u001b[0m\u001b[90m━━━━━━━━━━━━━━━━━━━━━━━━━━━━\u001b[0m \u001b[32m235.5/811.0 kB\u001b[0m \u001b[31m3.3 MB/s\u001b[0m eta \u001b[36m0:00:01\u001b[0m\r\u001b[2K   \u001b[91m━━━━━━━━━━━━━━━━━━━━━━━━━━━━━━\u001b[0m\u001b[90m╺\u001b[0m\u001b[90m━━━━━━━━━\u001b[0m \u001b[32m614.4/811.0 kB\u001b[0m \u001b[31m5.8 MB/s\u001b[0m eta \u001b[36m0:00:01\u001b[0m\r\u001b[2K   \u001b[90m━━━━━━━━━━━━━━━━━━━━━━━━━━━━━━━━━━━━━━━━\u001b[0m \u001b[32m811.0/811.0 kB\u001b[0m \u001b[31m6.2 MB/s\u001b[0m eta \u001b[36m0:00:00\u001b[0m\n",
            "\u001b[?25h"
          ]
        }
      ]
    },
    {
      "cell_type": "code",
      "source": [
        "import os\n",
        "import lightning as L\n",
        "import numpy as np\n",
        "import torch\n",
        "import torch.nn as nn\n",
        "import torch.nn.functional as F\n",
        "import torchvision\n",
        "import torchvision.transforms as transforms\n",
        "from torch.utils.data import DataLoader, random_split\n",
        "from torchvision.datasets import MNIST\n",
        "import matplotlib.pyplot as plt"
      ],
      "metadata": {
        "id": "s6T5mxKl6Ttr"
      },
      "execution_count": null,
      "outputs": []
    },
    {
      "cell_type": "code",
      "source": [
        "transform = transforms.Compose([transforms.ToTensor()])\n",
        "trainset = torchvision.datasets.MNIST(root='./data', train=True, download=True, transform=transform)\n",
        "trainloader = torch.utils.data.DataLoader(trainset, batch_size=64, shuffle=True)"
      ],
      "metadata": {
        "id": "JBygTi8j8J7w"
      },
      "execution_count": null,
      "outputs": []
    },
    {
      "cell_type": "code",
      "source": [
        "dataiter = iter(trainloader)\n",
        "images, labels = next(dataiter)\n",
        "\n",
        "print(\"SHAPE:\", images.shape)\n",
        "print(\"MIN:\", torch.min(images), \"MAX:\", torch.max(images))\n",
        "\n",
        "plt.imshow(images[0].numpy().squeeze(), cmap='gray')\n",
        "plt.title(f'Label: {labels[0].item()}')\n",
        "plt.axis('off')\n",
        "plt.show()"
      ],
      "metadata": {
        "colab": {
          "base_uri": "https://localhost:8080/",
          "height": 462
        },
        "id": "CDgQAsDm7t4A",
        "outputId": "21b8777a-e11d-47fd-eae8-124712c4e9c6"
      },
      "execution_count": null,
      "outputs": [
        {
          "output_type": "stream",
          "name": "stdout",
          "text": [
            "SHAPE: torch.Size([64, 1, 28, 28])\n",
            "MIN: tensor(0.) MAX: tensor(1.)\n"
          ]
        },
        {
          "output_type": "display_data",
          "data": {
            "text/plain": [
              "<Figure size 640x480 with 1 Axes>"
            ],
            "image/png": "[encoded data removed]"
          },
          "metadata": {}
        }
      ]
    },
    {
      "cell_type": "code",
      "source": [
        "device = 'cuda' if torch.cuda.is_available() else 'cpu'\n",
        "print(f'Using device: {device}')\n",
        "BATCH_SIZE = 64\n",
        "NUM_WORKERS = int(os.cpu_count() / 2)\n",
        "print(f'Number of workers: {NUM_WORKERS}')\n",
        "PATH_DATASETS = os.environ.get(\"PATH_DATASETS\", \".\")"
      ],
      "metadata": {
        "colab": {
          "base_uri": "https://localhost:8080/"
        },
        "id": "a44wKJPh8xFZ",
        "outputId": "b15d502d-dec5-42eb-af50-04f77f3b564d"
      },
      "execution_count": null,
      "outputs": [
        {
          "output_type": "stream",
          "name": "stdout",
          "text": [
            "Using device: cpu\n",
            "Number of workers: 1\n"
          ]
        }
      ]
    },
    {
      "cell_type": "code",
      "execution_count": null,
      "metadata": {
        "id": "UyTSe_2W6Pif"
      },
      "outputs": [],
      "source": [
        "class MNISTDataModule(L.LightningDataModule):\n",
        "    def __init__(\n",
        "        self,\n",
        "        data_dir: str = PATH_DATASETS,\n",
        "        batch_size: int = BATCH_SIZE,\n",
        "        num_workers: int = NUM_WORKERS,\n",
        "    ):\n",
        "        super().__init__()\n",
        "\n",
        "        self.data_dir = data_dir\n",
        "        self.batch_size = batch_size\n",
        "        self.num_workers = num_workers\n",
        "        self.transform = transforms.Compose([transforms.ToTensor()])\n",
        "        self.dims = (1, 28, 28)\n",
        "        self.num_classes = 10\n",
        "\n",
        "    def prepare_data(self):\n",
        "        # download\n",
        "        MNIST(self.data_dir, train=True, download=True)\n",
        "        MNIST(self.data_dir, train=False, download=True)\n",
        "\n",
        "    def setup(self, stage=None):\n",
        "        # Assign train/val datasets for use in dataloaders\n",
        "        if stage == \"fit\" or stage is None:\n",
        "            mnist_full = MNIST(self.data_dir, train=True, transform=self.transform)\n",
        "            self.mnist_train, self.mnist_val = random_split(mnist_full, [55000, 5000])\n",
        "\n",
        "        # Assign test dataset for use in dataloader(s)\n",
        "        if stage == \"test\" or stage is None:\n",
        "            self.mnist_test = MNIST(self.data_dir, train=False, transform=self.transform)\n",
        "\n",
        "    def train_dataloader(self):\n",
        "        return DataLoader(\n",
        "            self.mnist_train,\n",
        "            batch_size=self.batch_size,\n",
        "            num_workers=self.num_workers,\n",
        "        )\n",
        "\n",
        "    def val_dataloader(self):\n",
        "        return DataLoader(self.mnist_val, batch_size=self.batch_size, num_workers=self.num_workers)\n",
        "\n",
        "    def test_dataloader(self):\n",
        "        return DataLoader(self.mnist_test, batch_size=self.batch_size, num_workers=self.num_workers)\n",
        "\n",
        "\n",
        "\n",
        "class Generator(nn.Module):\n",
        "    def __init__(self, in_features=100, out_features=784):\n",
        "        super().__init__()\n",
        "        self.model = nn.Sequential(\n",
        "            nn.Linear(in_features, 32),\n",
        "            nn.LeakyReLU(0.2),\n",
        "            nn.Dropout(0.3),\n",
        "            nn.Linear(32,64),\n",
        "            nn.LeakyReLU(0.2),\n",
        "            nn.Dropout(0.3),\n",
        "            nn.Linear(64, 128),\n",
        "            nn.LeakyReLU(0.2),\n",
        "            nn.Dropout(0.3),\n",
        "            nn.Linear(128, out_features),\n",
        "            nn.Tanh()\n",
        "        )\n",
        "\n",
        "    def forward(self, z):\n",
        "        z = self.model(z)\n",
        "        z = z.view(z.size(0), -1)\n",
        "        return z\n",
        "\n",
        "\n",
        "class Discriminator(nn.Module):\n",
        "    def __init__(self, in_features=784, out_features=1):\n",
        "        super().__init__()\n",
        "        self.model = nn.Sequential(\n",
        "            nn.Linear(in_features, 128),\n",
        "            nn.LeakyReLU(0.2),\n",
        "            nn.Dropout(0.3),\n",
        "            nn.Linear(128, 64),\n",
        "            nn.LeakyReLU(0.2),\n",
        "            nn.Dropout(0.3),\n",
        "            nn.Linear(64, 32),\n",
        "            nn.LeakyReLU(0.2),\n",
        "            nn.Dropout(0.3),\n",
        "            nn.Linear(32,out_features)\n",
        "        )\n",
        "\n",
        "    def forward(self, x):\n",
        "        x = x.view(x.size(0), -1)\n",
        "        return self.model(x)\n",
        "\n",
        "\n",
        "class GAN(L.LightningModule):\n",
        "    def __init__(\n",
        "        self,\n",
        "        latent_dim: int = 100,\n",
        "        lr: float = 0.0002,\n",
        "        b1: float = 0.5,\n",
        "        b2: float = 0.999,\n",
        "        batch_size: int = BATCH_SIZE,\n",
        "        **kwargs,\n",
        "    ):\n",
        "        super().__init__()\n",
        "        self.save_hyperparameters()\n",
        "        self.automatic_optimization = False\n",
        "\n",
        "        self.batch_size = batch_size\n",
        "        self.latent_dim = latent_dim\n",
        "        self.lr = lr\n",
        "        self.b1 = b1\n",
        "        self.b2 = b2\n",
        "\n",
        "        # networks\n",
        "        self.generator = Generator(in_features=self.latent_dim, out_features=784)\n",
        "        self.discriminator = Discriminator(in_features=784,out_features=1)\n",
        "\n",
        "        # loss\n",
        "        self.loss_fn = nn.BCEWithLogitsLoss()\n",
        "        self.training_step_outputs_d = []\n",
        "        self.training_step_outputs_g = []\n",
        "        self.d_losses = []\n",
        "        self.g_losses = []\n",
        "\n",
        "    def forward(self, z):\n",
        "        return self.generator(z)\n",
        "\n",
        "    def real_loss(self, predicted_outputs, loss_fn, device):\n",
        "\n",
        "        # Targets are set to 1 here because we expect prediction to be\n",
        "        # 1 (or near 1) since samples are drawn from real dataset\n",
        "        batch_size = predicted_outputs.size(0)\n",
        "        targets = torch.ones(batch_size).to(device)\n",
        "        real_loss = loss_fn(predicted_outputs.squeeze(), targets)\n",
        "\n",
        "        return real_loss\n",
        "\n",
        "    def fake_loss(self, predicted_outputs, loss_fn, device):\n",
        "\n",
        "        # Targets are set to 0 here because we expect prediction to be\n",
        "        # 0 (or near 0) since samples are generated fake samples\n",
        "        batch_size = predicted_outputs.size(0)\n",
        "        targets = torch.zeros(batch_size).to(device)\n",
        "        fake_loss = loss_fn(predicted_outputs.squeeze(), targets)\n",
        "\n",
        "        return fake_loss\n",
        "\n",
        "    def training_step(self, batch):\n",
        "        imgs, _ = batch\n",
        "        imgs = imgs.to(device)\n",
        "\n",
        "        optimizer_g, optimizer_d = self.optimizers()\n",
        "\n",
        "        ## ----------------------------------------------------------------\n",
        "        ## Train discriminator using real and then fake MNIST images,\n",
        "        ## then compute the total-loss and back-propogate the total-loss\n",
        "        ## ----------------------------------------------------------------\n",
        "\n",
        "        self.toggle_optimizer(optimizer_d)\n",
        "\n",
        "        # Real MNIST images\n",
        "        # Convert real_images value range of 0 to 1 to -1 to 1\n",
        "        # this is required because latter discriminator would be required\n",
        "        # to consume generator's 'tanh' output which is of range -1 to 1\n",
        "        imgs = (imgs * 2) - 1\n",
        "        d_real_logits_out = self.discriminator(imgs)\n",
        "        d_real_loss = self.real_loss(d_real_logits_out, self.loss_fn, device)\n",
        "\n",
        "        # Fake images\n",
        "        with torch.no_grad():\n",
        "            # Generate a batch of random latent vectors\n",
        "            z = np.random.uniform(-1, 1, size=(self.batch_size, self.latent_dim))\n",
        "            z = torch.from_numpy(z).float().to(device)\n",
        "            # Generate batch of fake images\n",
        "            fake_images = self(z)\n",
        "        # feed fake-images to discriminator and compute the\n",
        "        # fake_loss (i.e. target label = 0)\n",
        "        d_fake_logits_out = self.discriminator(fake_images)\n",
        "        d_fake_loss = self.fake_loss(d_fake_logits_out, self.loss_fn, device)\n",
        "\n",
        "        # Compute total discriminator loss\n",
        "        d_loss = d_real_loss + d_fake_loss\n",
        "        self.log('d_loss', d_loss, on_step=True, prog_bar=True, logger=True)\n",
        "        self.manual_backward(d_loss)\n",
        "        optimizer_d.step()\n",
        "        optimizer_d.zero_grad()\n",
        "        self.untoggle_optimizer(optimizer_d)\n",
        "\n",
        "        ## ----------------------------------------------------------------\n",
        "        ## Train generator, compute the generator loss which is a measure\n",
        "        ## of how successful the generator is in tricking the discriminator\n",
        "        ## and finally back-propogate generator loss\n",
        "        ## ----------------------------------------------------------------\n",
        "\n",
        "        self.toggle_optimizer(optimizer_g)\n",
        "\n",
        "        # Generate a batch of random latent vectors\n",
        "        z = np.random.uniform(-1, 1, size=(self.batch_size, self.hparams.latent_dim))\n",
        "        z = torch.from_numpy(z).float().to(device)\n",
        "        # Generate a batch of fake images, feed them to discriminator\n",
        "        # and compute the generator loss as real_loss\n",
        "        # (i.e. target label = 1)\n",
        "        fake_images = self.generator(z)\n",
        "        g_logits_out = self.discriminator(fake_images)\n",
        "        g_loss = self.real_loss(g_logits_out, self.loss_fn, device)\n",
        "        self.log(\"g_loss\", g_loss, prog_bar=True)\n",
        "        self.manual_backward(g_loss)\n",
        "        optimizer_g.step()\n",
        "        optimizer_g.zero_grad()\n",
        "        self.untoggle_optimizer(optimizer_g)\n",
        "\n",
        "        self.training_step_outputs_d.append(d_loss)\n",
        "        self.training_step_outputs_g.append(g_loss)\n",
        "\n",
        "    def on_train_epoch_end(self):\n",
        "        d_loss_epoch = torch.stack(self.training_step_outputs_d).mean()\n",
        "        g_loss_epoch = torch.stack(self.training_step_outputs_g).mean()\n",
        "        self.d_losses.append(d_loss_epoch.item())\n",
        "        self.g_losses.append(g_loss_epoch.item())\n",
        "        self.training_step_outputs_d.clear()  # free memory\n",
        "        self.training_step_outputs_g.clear()\n",
        "\n",
        "        # Save generator weights at specific epochs\n",
        "        save_epochs = [1, 5, 10, 20, 50, 100, 200]\n",
        "        if self.current_epoch + 1 in save_epochs:\n",
        "           torch.save(self.generator.state_dict(), f'generator_epoch_{self.current_epoch + 1}.pth')\n",
        "\n",
        "    def configure_optimizers(self):\n",
        "        lr = self.lr\n",
        "        b1 = self.b1\n",
        "        b2 = self.b2\n",
        "        opt_g = torch.optim.Adam(self.generator.parameters(), lr=lr, betas=(b1, b2))\n",
        "        opt_d = torch.optim.Adam(self.discriminator.parameters(), lr=lr, betas=(b1, b2))\n",
        "        return [opt_g, opt_d], []"
      ]
    },
    {
      "cell_type": "code",
      "source": [
        "def main():\n",
        "    dm = MNISTDataModule()\n",
        "    model = GAN()\n",
        "    trainer = L.Trainer(\n",
        "        max_epochs=100,\n",
        "    )\n",
        "    trainer.fit(model, dm)\n",
        "    torch.save(model.generator.state_dict(), 'generator_weights_final.pth')\n",
        "    print(\"[LOG] Generator weights saved.\")\n",
        "    d_losses = model.d_losses\n",
        "    g_losses = model.g_losses\n",
        "    plot_epochs = range(0, len(g_losses))\n",
        "\n",
        "    plt.figure(figsize=(10, 6))\n",
        "    plt.plot(plot_epochs, d_losses, \"-o\", label=\"Discriminator loss\", color=\"blue\")\n",
        "    plt.plot(plot_epochs, g_losses, \"-o\", label=\"Generator loss\", color=\"orange\")\n",
        "    plt.title(\"Loss functions over Epochs\")\n",
        "    plt.xlabel(\"Epoch\")\n",
        "    plt.ylabel(\"BCE Loss\")\n",
        "    plt.legend()\n",
        "    plt.grid(True)\n",
        "    plt.show()\n",
        "\n",
        "if __name__ == '__main__':\n",
        "    main()"
      ],
      "metadata": {
        "colab": {
          "base_uri": "https://localhost:8080/",
          "height": 1000,
          "referenced_widgets": [
            "be43caf8eaa94836b3baf08ea80691ef",
            "e9298a2e86d741428df6da431a236319",
            "1f3d8c070f6e44d2a7ca2681f73aae0e",
            "f8c17b39a9654ce4bef6178244b64447",
            "69c99f85ef20455f89ca84e569be98b0",
            "9313f9bca1ba4783908a25a1ab97c00b",
            "09a9c23a28db4e8ea7f77f000ffcc343",
            "a2039d637aa5492eaa3139c843c054e7",
            "23ad0b6144bd4bda999450ad940e6051",
            "512fd57d0a064c09a70346e9b263a64a",
            "69f94d5c625844919c989f2a574fa0a5"
          ]
        },
        "id": "b0K62ACsDdaM",
        "outputId": "bf89b51a-7758-4e9e-e82b-6140ff4c785f"
      },
      "execution_count": null,
      "outputs": [
        {
          "output_type": "stream",
          "name": "stderr",
          "text": [
            "INFO: GPU available: False, used: False\n",
            "INFO:lightning.pytorch.utilities.rank_zero:GPU available: False, used: False\n",
            "INFO: TPU available: False, using: 0 TPU cores\n",
            "INFO:lightning.pytorch.utilities.rank_zero:TPU available: False, using: 0 TPU cores\n",
            "INFO: HPU available: False, using: 0 HPUs\n",
            "INFO:lightning.pytorch.utilities.rank_zero:HPU available: False, using: 0 HPUs\n",
            "/usr/local/lib/python3.10/dist-packages/lightning/pytorch/trainer/configuration_validator.py:68: You passed in a `val_dataloader` but have no `validation_step`. Skipping val loop.\n",
            "INFO: \n",
            "  | Name          | Type              | Params | Mode \n",
            "------------------------------------------------------------\n",
            "0 | generator     | Generator         | 114 K  | train\n",
            "1 | discriminator | Discriminator     | 110 K  | train\n",
            "2 | loss_fn       | BCEWithLogitsLoss | 0      | train\n",
            "------------------------------------------------------------\n",
            "225 K     Trainable params\n",
            "0         Non-trainable params\n",
            "225 K     Total params\n",
            "0.903     Total estimated model params size (MB)\n",
            "26        Modules in train mode\n",
            "0         Modules in eval mode\n",
            "INFO:lightning.pytorch.callbacks.model_summary:\n",
            "  | Name          | Type              | Params | Mode \n",
            "------------------------------------------------------------\n",
            "0 | generator     | Generator         | 114 K  | train\n",
            "1 | discriminator | Discriminator     | 110 K  | train\n",
            "2 | loss_fn       | BCEWithLogitsLoss | 0      | train\n",
            "------------------------------------------------------------\n",
            "225 K     Trainable params\n",
            "0         Non-trainable params\n",
            "225 K     Total params\n",
            "0.903     Total estimated model params size (MB)\n",
            "26        Modules in train mode\n",
            "0         Modules in eval mode\n",
            "/usr/lib/python3.10/multiprocessing/popen_fork.py:66: RuntimeWarning: os.fork() was called. os.fork() is incompatible with multithreaded code, and JAX is multithreaded, so this will likely lead to a deadlock.\n",
            "  self.pid = os.fork()\n"
          ]
        },
        {
          "output_type": "display_data",
          "data": {
            "text/plain": [
              "Training: |          | 0/? [00:00<?, ?it/s]"
            ],
            "application/vnd.jupyter.widget-view+json": {
              "version_major": 2,
              "version_minor": 0,
              "model_id": "be43caf8eaa94836b3baf08ea80691ef"
            }
          },
          "metadata": {}
        },
        {
          "output_type": "stream",
          "name": "stderr",
          "text": [
            "INFO: `Trainer.fit` stopped: `max_epochs=100` reached.\n",
            "INFO:lightning.pytorch.utilities.rank_zero:`Trainer.fit` stopped: `max_epochs=100` reached.\n"
          ]
        },
        {
          "output_type": "stream",
          "name": "stdout",
          "text": [
            "[LOG] Generator weights saved.\n"
          ]
        },
        {
          "output_type": "display_data",
          "data": {
            "text/plain": [
              "<Figure size 1000x600 with 1 Axes>"
            ],
            "image/png": "[encoded data removed]"
          },
          "metadata": {}
        }
      ]
    },
    {
      "cell_type": "code",
      "source": [
        "latent_dim = 100\n",
        "g = Generator(in_features=100, out_features=784)\n",
        "g.load_state_dict(torch.load('generator_epoch_1.pth'))\n",
        "g.eval()\n",
        "z = np.random.uniform(-1, 1, size=(1, 100))\n",
        "z = torch.from_numpy(z).float()\n",
        "fake_image = g(z)\n",
        "fake_image = fake_image.view(1, 1, 28, 28).detach()\n",
        "plt.imshow(fake_image[0].numpy().squeeze(), cmap='gray')\n",
        "plt.axis('off')\n",
        "plt.show()"
      ],
      "metadata": {
        "colab": {
          "base_uri": "https://localhost:8080/",
          "height": 406
        },
        "id": "bhUdYGdpE94Q",
        "outputId": "ad9ce1a0-aa57-4483-8d7d-080f3a351153"
      },
      "execution_count": null,
      "outputs": [
        {
          "output_type": "display_data",
          "data": {
            "text/plain": [
              "<Figure size 640x480 with 1 Axes>"
            ],
            "image/png": "[encoded data removed]"
          },
          "metadata": {}
        }
      ]
    },
    {
      "cell_type": "code",
      "source": [
        "latent_dim = 100\n",
        "g = Generator(in_features=100, out_features=784)\n",
        "g.load_state_dict(torch.load('generator_epoch_5.pth'))\n",
        "g.eval()\n",
        "z = np.random.uniform(-1, 1, size=(1, 100))\n",
        "z = torch.from_numpy(z).float()\n",
        "fake_image = g(z)\n",
        "fake_image = fake_image.view(1, 1, 28, 28).detach()\n",
        "plt.imshow(fake_image[0].numpy().squeeze(), cmap='gray')\n",
        "plt.axis('off')\n",
        "plt.show()"
      ],
      "metadata": {
        "colab": {
          "base_uri": "https://localhost:8080/",
          "height": 406
        },
        "id": "vz1c3TePIvqL",
        "outputId": "df00d0cc-b53f-4dca-ff9a-b73be8bbcd4c"
      },
      "execution_count": null,
      "outputs": [
        {
          "output_type": "display_data",
          "data": {
            "text/plain": [
              "<Figure size 640x480 with 1 Axes>"
            ],
            "image/png": "[encoded data removed]"
          },
          "metadata": {}
        }
      ]
    },
    {
      "cell_type": "code",
      "source": [
        "latent_dim = 100\n",
        "g = Generator(in_features=100, out_features=784)\n",
        "g.load_state_dict(torch.load('generator_epoch_10.pth'))\n",
        "g.eval()\n",
        "z = np.random.uniform(-1, 1, size=(1, 100))\n",
        "z = torch.from_numpy(z).float()\n",
        "fake_image = g(z)\n",
        "fake_image = fake_image.view(1, 1, 28, 28).detach()\n",
        "plt.imshow(fake_image[0].numpy().squeeze(), cmap='gray')\n",
        "plt.axis('off')\n",
        "plt.show()"
      ],
      "metadata": {
        "colab": {
          "base_uri": "https://localhost:8080/",
          "height": 406
        },
        "id": "Du_KV-X2IyZG",
        "outputId": "2c847d86-6ad1-4440-d3cb-32ec504b8c92"
      },
      "execution_count": null,
      "outputs": [
        {
          "output_type": "display_data",
          "data": {
            "text/plain": [
              "<Figure size 640x480 with 1 Axes>"
            ],
            "image/png": "[encoded data removed]"
          },
          "metadata": {}
        }
      ]
    },
    {
      "cell_type": "code",
      "source": [
        "latent_dim = 100\n",
        "g = Generator(in_features=100, out_features=784)\n",
        "g.load_state_dict(torch.load('generator_epoch_20.pth'))\n",
        "g.eval()\n",
        "z = np.random.uniform(-1, 1, size=(1, 100))\n",
        "z = torch.from_numpy(z).float()\n",
        "fake_image = g(z)\n",
        "fake_image = fake_image.view(1, 1, 28, 28).detach()\n",
        "plt.imshow(fake_image[0].numpy().squeeze(), cmap='gray')\n",
        "plt.axis('off')\n",
        "plt.show()"
      ],
      "metadata": {
        "colab": {
          "base_uri": "https://localhost:8080/",
          "height": 406
        },
        "id": "Mo5NKCzbX4wS",
        "outputId": "423d455e-c0ca-4a92-de85-46e78b93850d"
      },
      "execution_count": null,
      "outputs": [
        {
          "output_type": "display_data",
          "data": {
            "text/plain": [
              "<Figure size 640x480 with 1 Axes>"
            ],
            "image/png": "[encoded data removed]"
          },
          "metadata": {}
        }
      ]
    },
    {
      "cell_type": "code",
      "source": [
        "latent_dim = 100\n",
        "g = Generator(in_features=100, out_features=784)\n",
        "g.load_state_dict(torch.load('generator_epoch_50.pth'))\n",
        "g.eval()\n",
        "z = np.random.uniform(-1, 1, size=(1, 100))\n",
        "z = torch.from_numpy(z).float()\n",
        "fake_image = g(z)\n",
        "fake_image = fake_image.view(1, 1, 28, 28).detach()\n",
        "plt.imshow(fake_image[0].numpy().squeeze(), cmap='gray')\n",
        "plt.axis('off')\n",
        "plt.show()"
      ],
      "metadata": {
        "colab": {
          "base_uri": "https://localhost:8080/",
          "height": 406
        },
        "id": "qonHHDZHX6Py",
        "outputId": "49cf810c-70cc-4b63-99f9-eb63285aeb76"
      },
      "execution_count": null,
      "outputs": [
        {
          "output_type": "display_data",
          "data": {
            "text/plain": [
              "<Figure size 640x480 with 1 Axes>"
            ],
            "image/png": "[encoded data removed]"
          },
          "metadata": {}
        }
      ]
    },
    {
      "cell_type": "code",
      "source": [
        "latent_dim = 100\n",
        "g = Generator(in_features=100, out_features=784)\n",
        "g.load_state_dict(torch.load('generator_epoch_100.pth'))\n",
        "g.eval()\n",
        "z = np.random.uniform(-1, 1, size=(1, 100))\n",
        "z = torch.from_numpy(z).float()\n",
        "fake_image = g(z)\n",
        "fake_image = fake_image.view(1, 1, 28, 28).detach()\n",
        "plt.imshow(fake_image[0].numpy().squeeze(), cmap='gray')\n",
        "plt.axis('off')\n",
        "plt.show()"
      ],
      "metadata": {
        "colab": {
          "base_uri": "https://localhost:8080/",
          "height": 406
        },
        "id": "zOR2aABGYBhq",
        "outputId": "ba75d27a-8e6d-4834-a311-674f06baf943"
      },
      "execution_count": null,
      "outputs": [
        {
          "output_type": "display_data",
          "data": {
            "text/plain": [
              "<Figure size 640x480 with 1 Axes>"
            ],
            "image/png": "[encoded data removed]"
          },
          "metadata": {}
        }
      ]
    }
  ]
}